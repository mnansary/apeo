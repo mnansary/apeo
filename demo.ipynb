{
 "cells": [
  {
   "cell_type": "code",
   "execution_count": 1,
   "metadata": {},
   "outputs": [
    {
     "name": "stdout",
     "output_type": "stream",
     "text": [
      "[2022/06/07 20:07:54] ppocr DEBUG: Namespace(alpha=1.0, benchmark=False, beta=1.0, cls_batch_num=6, cls_image_shape='3, 48, 192', cls_model_dir='/home/ansary/.paddleocr/whl/cls/ch_ppocr_mobile_v2.0_cls_infer', cls_thresh=0.9, cpu_threads=10, crop_res_save_dir='./output', det=True, det_algorithm='DB', det_db_box_thresh=0.6, det_db_score_mode='fast', det_db_thresh=0.3, det_db_unclip_ratio=1.5, det_east_cover_thresh=0.1, det_east_nms_thresh=0.2, det_east_score_thresh=0.8, det_fce_box_type='poly', det_limit_side_len=960, det_limit_type='max', det_model_dir='/home/ansary/.paddleocr/whl/det/en/en_PP-OCRv3_det_infer', det_pse_box_thresh=0.85, det_pse_box_type='quad', det_pse_min_area=16, det_pse_scale=1, det_pse_thresh=0, det_sast_nms_thresh=0.2, det_sast_polygon=False, det_sast_score_thresh=0.5, draw_img_save_dir='./inference_results', drop_score=0.5, e2e_algorithm='PGNet', e2e_char_dict_path='./ppocr/utils/ic15_dict.txt', e2e_limit_side_len=768, e2e_limit_type='max', e2e_model_dir=None, e2e_pgnet_mode='fast', e2e_pgnet_score_thresh=0.5, e2e_pgnet_valid_set='totaltext', enable_mkldnn=False, fourier_degree=5, gpu_mem=500, help='==SUPPRESS==', image_dir=None, ir_optim=True, label_list=['0', '180'], lang='en', layout=True, layout_label_map=None, layout_path_model='lp://PubLayNet/ppyolov2_r50vd_dcn_365e_publaynet/config', max_batch_size=10, max_text_length=25, min_subgraph_size=15, mode='structure', ocr=True, ocr_version='PP-OCRv3', output='./output', precision='fp32', process_id=0, rec=True, rec_algorithm='SVTR_LCNet', rec_batch_num=6, rec_char_dict_path='/home/ansary/anaconda3/envs/mlreader/lib/python3.8/site-packages/paddleocr/ppocr/utils/en_dict.txt', rec_image_shape='3, 48, 320', rec_model_dir='/home/ansary/.paddleocr/whl/rec/en/en_PP-OCRv3_rec_infer', save_crop_res=False, save_log_path='./log_output/', scales=[8, 16, 32], show_log=True, structure_version='PP-STRUCTURE', table=True, table_char_dict_path=None, table_max_len=488, table_model_dir=None, total_process_num=1, type='ocr', use_angle_cls=True, use_dilation=False, use_gpu=False, use_mp=False, use_onnx=False, use_pdserving=False, use_space_char=True, use_tensorrt=False, vis_font_path='./doc/fonts/simfang.ttf', warmup=False)\n",
      "\u001b[32m#LOG     :\u001b[0m\u001b[34mLoaded Model\u001b[0m\n"
     ]
    }
   ],
   "source": [
    "import matplotlib.pyplot as plt\n",
    "import cv2 \n",
    "from printedOCR import PrintedOCR\n",
    "reader=PrintedOCR()"
   ]
  },
  {
   "cell_type": "code",
   "execution_count": 3,
   "metadata": {},
   "outputs": [
    {
     "name": "stderr",
     "output_type": "stream",
     "text": [
      "100%|██████████| 24/24 [00:00<00:00, 36067.11it/s]\n",
      "100%|██████████| 24/24 [00:00<00:00, 34181.09it/s]\n",
      " 44%|████▍     | 8/18 [00:00<00:00, 1031.78it/s]\n"
     ]
    },
    {
     "data": {
      "text/html": [
       "<div>\n",
       "<style scoped>\n",
       "    .dataframe tbody tr th:only-of-type {\n",
       "        vertical-align: middle;\n",
       "    }\n",
       "\n",
       "    .dataframe tbody tr th {\n",
       "        vertical-align: top;\n",
       "    }\n",
       "\n",
       "    .dataframe thead th {\n",
       "        text-align: right;\n",
       "    }\n",
       "</style>\n",
       "<table border=\"1\" class=\"dataframe\">\n",
       "  <thead>\n",
       "    <tr style=\"text-align: right;\">\n",
       "      <th></th>\n",
       "      <th>sku</th>\n",
       "      <th>quantity</th>\n",
       "      <th>price</th>\n",
       "    </tr>\n",
       "  </thead>\n",
       "  <tbody>\n",
       "    <tr>\n",
       "      <th>0</th>\n",
       "      <td>B&amp;H SF 20HL</td>\n",
       "      <td>20</td>\n",
       "      <td>269.9</td>\n",
       "    </tr>\n",
       "    <tr>\n",
       "      <th>1</th>\n",
       "      <td>Alchemy Mix1</td>\n",
       "      <td>20</td>\n",
       "      <td>269.9</td>\n",
       "    </tr>\n",
       "    <tr>\n",
       "      <th>2</th>\n",
       "      <td>Alchemy 7MG</td>\n",
       "      <td>20</td>\n",
       "      <td>269.9</td>\n",
       "    </tr>\n",
       "  </tbody>\n",
       "</table>\n",
       "</div>"
      ],
      "text/plain": [
       "            sku quantity  price\n",
       "0   B&H SF 20HL       20  269.9\n",
       "1  Alchemy Mix1       20  269.9\n",
       "2   Alchemy 7MG       20  269.9"
      ]
     },
     "execution_count": 3,
     "metadata": {},
     "output_type": "execute_result"
    }
   ],
   "source": [
    "img_path=\"/home/ansary/WORK/Work/APSIS/codes/printed/apeo/memos/MicrosoftTeams-image.png\"\n",
    "df=reader(img_path)\n",
    "df"
   ]
  },
  {
   "cell_type": "code",
   "execution_count": null,
   "metadata": {},
   "outputs": [],
   "source": [
    "df1"
   ]
  },
  {
   "cell_type": "code",
   "execution_count": null,
   "metadata": {},
   "outputs": [],
   "source": [
    "\n",
    "img=cv2.imread(img_path)\n",
    "plt.figure(figsize=(10,10))\n",
    "plt.imshow(img) \n",
    "\n",
    "for line in data[\"data\"]:\n",
    "    print(\"---------------------------------------\")\n",
    "    print(line)\n",
    "    print(\"---------------------------------------\")\n",
    "    "
   ]
  },
  {
   "cell_type": "code",
   "execution_count": null,
   "metadata": {},
   "outputs": [],
   "source": [
    "lines[0].split(\"-\")"
   ]
  },
  {
   "cell_type": "code",
   "execution_count": null,
   "metadata": {},
   "outputs": [],
   "source": [
    "d='''\n",
    "B&H SW 20HL\n",
    "B&H BG 20HL\n",
    "JPGL 20HL\n",
    "CAP 20HL\n",
    "SRF 20HL\n",
    "SRN 20HL\n",
    "PL 20HL\n",
    "DB 20HL\n",
    "SRF 10HL\n",
    "SRN 10HL\n",
    "DB 10HL\n",
    "DBST 20HL\n",
    "DBST 10HL\n",
    "B&H SF 20HL\n",
    "JP SP 20HL\n",
    "B&H SF 12HL\n",
    "JPGL 12HL\n",
    "B&H BG 12HL\n",
    "JP SW 20HL\n",
    "HWD 20HL\n",
    "HWD 10HL\n",
    "B&H PT 20HL\n",
    "RG 20HL\n",
    "RG 10HL\n",
    "RN 20HL\n",
    "RN 10HL\n",
    "RLS 20HL\n",
    "RLS 10HL\n",
    "DBLP 20HL\n",
    "DBLP 10HL\n",
    "HWLP 20HL\n",
    "DBLP 2 20HL\n",
    "DBLP 2 10HL\n",
    "PLLP 2 20HL\n",
    "B&H SF BOPP 20s\n",
    "B&H BG BOPP 20s\n",
    "B&H SW BOPP 20s\n",
    "JPGL HE 20HL\n",
    "LS SS 20HL\n",
    "LS CC 20HL\n",
    "Alchemy Mix1\n",
    "Alchemy 7MG\n",
    "LS OG 20HL\n",
    "FLG 20HL\n",
    "FLG 10HL\n",
    "'''"
   ]
  },
  {
   "cell_type": "code",
   "execution_count": null,
   "metadata": {},
   "outputs": [],
   "source": [
    "d=d.split(\"\\n\")\n",
    "skus=[]\n",
    "for i in d:\n",
    "    if i.strip():\n",
    "        print(f\"'{i.strip()}',\")\n",
    "        skus.append(i.strip())"
   ]
  },
  {
   "cell_type": "code",
   "execution_count": null,
   "metadata": {},
   "outputs": [],
   "source": [
    "# lines=[]\n",
    "        # for line in tqdm(df.line_no.unique()):\n",
    "        #     #_line=[]\n",
    "        #     ldf=df.loc[df.line_no==line]\n",
    "        #     ldf.reset_index(drop=True,inplace=True)\n",
    "        #     ldf=ldf.sort_values('word_no')\n",
    "        #     _ltext=''\n",
    "        #     for idx in range(len(ldf)):\n",
    "        #         text=ldf.iloc[idx,2]\n",
    "        #         x1=ldf.iloc[idx,3]\n",
    "        #         y1=ldf.iloc[idx,4]\n",
    "        #         #_line.append({\"text\":text,\"x1\":x1,\"y1\":y1})\n",
    "        #         _ltext+=text\n",
    "        #     if \"-\" in _ltext:\n",
    "        #         for sku in sku_names:\n",
    "        #             if sku in _ltext:\n",
    "        #                 lines.append(_ltext) \n",
    "        #     if \"TOTAL\" in _ltext:\n",
    "        #         break\n",
    "\n",
    "        #     #data.append(_line)\n",
    "        # #data={\"data\":data}\n",
    "        \n",
    "        # prods=[]\n",
    "        # qtys=[]\n",
    "        # prices=[]\n",
    "\n",
    "        # for line in lines:\n",
    "        #     line=line.split(\"-\")\n",
    "        #     line=[l for l in line if l.strip()]\n",
    "        #     if len(line)==3:\n",
    "        #         prods.append(line[0])\n",
    "        #         qtys.append(line[1])\n",
    "        #         prices.append(line[2])\n",
    "                \n",
    "        # return pd.DataFrame({\"sku\":prods,\"quantity\":qtys,\"price\":prices})\n",
    "\n",
    "        \n",
    "        "
   ]
  }
 ],
 "metadata": {
  "interpreter": {
   "hash": "fa698ee2b63d7d9ca484c25f2c4abdab749001148ee3eec7b444cd3f3797d0a5"
  },
  "kernelspec": {
   "display_name": "Python 3.8.13 ('mlreader')",
   "language": "python",
   "name": "python3"
  },
  "language_info": {
   "codemirror_mode": {
    "name": "ipython",
    "version": 3
   },
   "file_extension": ".py",
   "mimetype": "text/x-python",
   "name": "python",
   "nbconvert_exporter": "python",
   "pygments_lexer": "ipython3",
   "version": "3.8.13"
  },
  "orig_nbformat": 4
 },
 "nbformat": 4,
 "nbformat_minor": 2
}
