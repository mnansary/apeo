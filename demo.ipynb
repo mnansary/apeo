{
 "cells": [
  {
   "cell_type": "code",
   "execution_count": null,
   "metadata": {},
   "outputs": [],
   "source": [
    "import matplotlib.pyplot as plt\n",
    "import cv2 \n",
    "from printedOCR import PrintedOCR\n",
    "reader=PrintedOCR()"
   ]
  },
  {
   "cell_type": "code",
   "execution_count": null,
   "metadata": {},
   "outputs": [],
   "source": [
    "img_path=\"/home/ansary/WORK/Work/APSIS/codes/printed/apeo/memos/dd1.png\"\n",
    "df,dd=reader(img_path)\n",
    "df"
   ]
  },
  {
   "cell_type": "code",
   "execution_count": null,
   "metadata": {},
   "outputs": [],
   "source": [
    "dd"
   ]
  },
  {
   "cell_type": "code",
   "execution_count": null,
   "metadata": {},
   "outputs": [],
   "source": [
    "import numpy as np\n",
    "import matplotlib.pyplot as plt \n",
    "import cv2\n",
    "# Read image \n",
    "img = cv2.imread('/home/ansary/WORK/Work/APSIS/codes/printed/apeo/memos/d3.png', cv2.IMREAD_COLOR)\n",
    "# Convert the image to gray-scale\n",
    "gray = cv2.cvtColor(img, cv2.COLOR_BGR2GRAY)\n",
    "# Find the edges in the image using canny detector\n",
    "edges = cv2.Canny(gray,50,150,apertureSize = 3)\n",
    "\n",
    "# # Detect points that form a line\n",
    "# lines = cv2.HoughLinesP(edges, 1, np.pi/180, 100, minLineLength=100, maxLineGap=250)\n",
    "# # Draw lines on the image\n",
    "# for line in lines:\n",
    "#     x1, y1, x2, y2 = line[0]\n",
    "#     cv2.line(img, (x1, y1), (x2, y2), (255, 0, 0), 3)\n",
    "# # Show result\n",
    "plt.imshow(edges)\n"
   ]
  },
  {
   "cell_type": "code",
   "execution_count": null,
   "metadata": {},
   "outputs": [],
   "source": [
    "\n",
    "img=cv2.imread(img_path)\n",
    "plt.figure(figsize=(10,10))\n",
    "plt.imshow(img) \n",
    "\n",
    "for line in data[\"data\"]:\n",
    "    print(\"---------------------------------------\")\n",
    "    print(line)\n",
    "    print(\"---------------------------------------\")\n",
    "    "
   ]
  },
  {
   "cell_type": "code",
   "execution_count": null,
   "metadata": {},
   "outputs": [],
   "source": [
    "lines[0].split(\"-\")"
   ]
  },
  {
   "cell_type": "code",
   "execution_count": null,
   "metadata": {},
   "outputs": [],
   "source": [
    "d='''\n",
    "B&H SW 20HL\n",
    "B&H BG 20HL\n",
    "JPGL 20HL\n",
    "CAP 20HL\n",
    "SRF 20HL\n",
    "SRN 20HL\n",
    "PL 20HL\n",
    "DB 20HL\n",
    "SRF 10HL\n",
    "SRN 10HL\n",
    "DB 10HL\n",
    "DBST 20HL\n",
    "DBST 10HL\n",
    "B&H SF 20HL\n",
    "JP SP 20HL\n",
    "B&H SF 12HL\n",
    "JPGL 12HL\n",
    "B&H BG 12HL\n",
    "JP SW 20HL\n",
    "HWD 20HL\n",
    "HWD 10HL\n",
    "B&H PT 20HL\n",
    "RG 20HL\n",
    "RG 10HL\n",
    "RN 20HL\n",
    "RN 10HL\n",
    "RLS 20HL\n",
    "RLS 10HL\n",
    "DBLP 20HL\n",
    "DBLP 10HL\n",
    "HWLP 20HL\n",
    "DBLP 2 20HL\n",
    "DBLP 2 10HL\n",
    "PLLP 2 20HL\n",
    "B&H SF BOPP 20s\n",
    "B&H BG BOPP 20s\n",
    "B&H SW BOPP 20s\n",
    "JPGL HE 20HL\n",
    "LS SS 20HL\n",
    "LS CC 20HL\n",
    "Alchemy Mix1\n",
    "Alchemy 7MG\n",
    "LS OG 20HL\n",
    "FLG 20HL\n",
    "FLG 10HL\n",
    "'''"
   ]
  },
  {
   "cell_type": "code",
   "execution_count": null,
   "metadata": {},
   "outputs": [],
   "source": [
    "sku_names=['B&H SW 20HL',\n",
    "            'B&H BG 20HL',\n",
    "            'JPGL 20HL',\n",
    "            'CAP 20HL',\n",
    "            'SRF 20HL',\n",
    "            'SRN 20HL',\n",
    "            'PL 20HL',\n",
    "            'DB 20HL',\n",
    "            'SRF 10HL',\n",
    "            'SRN 10HL',\n",
    "            'DB 10HL',\n",
    "            'DBST 20HL',\n",
    "            'DBST 10HL',\n",
    "            'B&H SF 20HL',\n",
    "            'JP SP 20HL',\n",
    "            'B&H SF 12HL',\n",
    "            'JPGL 12HL',\n",
    "            'B&H BG 12HL',\n",
    "            'JP SW 20HL',\n",
    "            'HWD 20HL',\n",
    "            'HWD 10HL',\n",
    "            'B&H PT 20HL',\n",
    "            'RG 20HL',\n",
    "            'RG 10HL',\n",
    "            'RN 20HL',\n",
    "            'RN 10HL',\n",
    "            'RLS 20HL',\n",
    "            'RLS 10HL',\n",
    "            'DBLP 20HL',\n",
    "            'DBLP 10HL',\n",
    "            'HWLP 20HL',\n",
    "            'DBLP 2 20HL',\n",
    "            'DBLP 2 10HL',\n",
    "            'PLLP 2 20HL',\n",
    "            'B&H SF BOPP 20s',\n",
    "            'B&H BG BOPP 20s',\n",
    "            'B&H SW BOPP 20s',\n",
    "            'JPGL HE 20HL',\n",
    "            'LS SS 20HL',\n",
    "            'LS CC 20HL',\n",
    "            'Alchemy Mix1',\n",
    "            'Alchemy 7MG',\n",
    "            'LS OG 20HL',\n",
    "            'FLG 20HL',\n",
    "            'FLG 10HL']\n",
    "sku_merged=[s.replace(\" \",'') for s in sku_names]\n",
    "sku_merged"
   ]
  },
  {
   "cell_type": "code",
   "execution_count": null,
   "metadata": {},
   "outputs": [],
   "source": [
    "d=d.split(\"\\n\")\n",
    "skus=[]\n",
    "for i in d:\n",
    "    if i.strip():\n",
    "        print(f\"'{i.strip()}',\")\n",
    "        skus.append(i.strip())"
   ]
  },
  {
   "cell_type": "code",
   "execution_count": null,
   "metadata": {},
   "outputs": [],
   "source": [
    "# lines=[]\n",
    "        # for line in tqdm(df.line_no.unique()):\n",
    "        #     #_line=[]\n",
    "        #     ldf=df.loc[df.line_no==line]\n",
    "        #     ldf.reset_index(drop=True,inplace=True)\n",
    "        #     ldf=ldf.sort_values('word_no')\n",
    "        #     _ltext=''\n",
    "        #     for idx in range(len(ldf)):\n",
    "        #         text=ldf.iloc[idx,2]\n",
    "        #         x1=ldf.iloc[idx,3]\n",
    "        #         y1=ldf.iloc[idx,4]\n",
    "        #         #_line.append({\"text\":text,\"x1\":x1,\"y1\":y1})\n",
    "        #         _ltext+=text\n",
    "        #     if \"-\" in _ltext:\n",
    "        #         for sku in sku_names:\n",
    "        #             if sku in _ltext:\n",
    "        #                 lines.append(_ltext) \n",
    "        #     if \"TOTAL\" in _ltext:\n",
    "        #         break\n",
    "\n",
    "        #     #data.append(_line)\n",
    "        # #data={\"data\":data}\n",
    "        \n",
    "        # prods=[]\n",
    "        # qtys=[]\n",
    "        # prices=[]\n",
    "\n",
    "        # for line in lines:\n",
    "        #     line=line.split(\"-\")\n",
    "        #     line=[l for l in line if l.strip()]\n",
    "        #     if len(line)==3:\n",
    "        #         prods.append(line[0])\n",
    "        #         qtys.append(line[1])\n",
    "        #         prices.append(line[2])\n",
    "                \n",
    "        # return pd.DataFrame({\"sku\":prods,\"quantity\":qtys,\"price\":prices})\n",
    "\n",
    "        \n",
    "        "
   ]
  },
  {
   "cell_type": "code",
   "execution_count": null,
   "metadata": {},
   "outputs": [],
   "source": [
    "from paddleocr import PaddleOCR\n",
    "from printedOCR.masking import create_mask\n",
    "ocr=PaddleOCR(use_angle_cls=True, lang='en',rec_algorithm='SVTR_LCNet')\n"
   ]
  },
  {
   "cell_type": "code",
   "execution_count": null,
   "metadata": {},
   "outputs": [],
   "source": [
    "\n",
    "from matplotlib import pyplot as plt \n",
    "import cv2\n",
    "img_path=\"/home/ansary/WORK/Work/APSIS/codes/printed/apeo/memos/dd1.png\"\n",
    "img=cv2.imread(img_path)\n",
    "img=cv2.cvtColor(img,cv2.COLOR_BGR2RGB)\n",
    "plt.imshow(img)"
   ]
  },
  {
   "cell_type": "code",
   "execution_count": null,
   "metadata": {},
   "outputs": [],
   "source": [
    "regions=ocr.ocr(img,rec=False)\n",
    "mask=create_mask(img,regions)\n",
    "plt.imshow(mask)"
   ]
  },
  {
   "cell_type": "code",
   "execution_count": null,
   "metadata": {},
   "outputs": [],
   "source": [
    "import cv2\n",
    "import numpy as np\n",
    "img=cv2.imread(img_path)\n",
    "img=cv2.cvtColor(img,cv2.COLOR_BGR2RGB)\n",
    "# h_new =1500\n",
    "# # Load image, grayscale, Gaussian blur, Otsu's threshold\n",
    "# image = cv2.imread('/home/ansary/WORK/Work/APSIS/codes/printed/apeo/memos/d2.png')\n",
    "# h,w,_ = image.shape\n",
    "# w_new = int(h_new*(w/h))\n",
    "# image = cv2.resize(image,(w_new,h_new))\n",
    "# gray = cv2.cvtColor(image, cv2.COLOR_BGR2GRAY)\n",
    "# blur = cv2.GaussianBlur(gray, (7,7), 0)\n",
    "# thresh = cv2.threshold(blur, 0, 255, cv2.THRESH_BINARY_INV + cv2.THRESH_OTSU)[1]\n",
    "\n",
    "# Create rectangular structuring element and dilate\n",
    "mask=mask*255\n",
    "mask=mask.astype(\"uint8\")\n",
    "kernel = cv2.getStructuringElement(cv2.MORPH_RECT, (100,1))\n",
    "dilate = cv2.dilate(mask, kernel, iterations=4)\n",
    "\n",
    "# Find contours and draw rectangle\n",
    "cnts = cv2.findContours(dilate, cv2.RETR_EXTERNAL, cv2.CHAIN_APPROX_SIMPLE)\n",
    "cnts = cnts[0] if len(cnts) == 2 else cnts[1]\n",
    "for c in cnts:\n",
    "    x,y,w,h = cv2.boundingRect(c)\n",
    "    #print(x,y,w,h)\n",
    "    cv2.rectangle(img, (x, y), (x + w, y + h), (36,255,12), 2)\n",
    "plt.figure(figsize=(10,10))\n",
    "plt.imshow(img)"
   ]
  },
  {
   "cell_type": "code",
   "execution_count": null,
   "metadata": {},
   "outputs": [],
   "source": [
    "image.shape"
   ]
  },
  {
   "cell_type": "code",
   "execution_count": null,
   "metadata": {},
   "outputs": [],
   "source": [
    "image.shape"
   ]
  },
  {
   "cell_type": "code",
   "execution_count": null,
   "metadata": {},
   "outputs": [],
   "source": [
    "image.shape"
   ]
  },
  {
   "cell_type": "code",
   "execution_count": null,
   "metadata": {},
   "outputs": [],
   "source": []
  }
 ],
 "metadata": {
  "interpreter": {
   "hash": "fa698ee2b63d7d9ca484c25f2c4abdab749001148ee3eec7b444cd3f3797d0a5"
  },
  "kernelspec": {
   "display_name": "Python 3.8.13 ('mlreader')",
   "language": "python",
   "name": "python3"
  },
  "language_info": {
   "codemirror_mode": {
    "name": "ipython",
    "version": 3
   },
   "file_extension": ".py",
   "mimetype": "text/x-python",
   "name": "python",
   "nbconvert_exporter": "python",
   "pygments_lexer": "ipython3",
   "version": "3.8.13"
  },
  "orig_nbformat": 4
 },
 "nbformat": 4,
 "nbformat_minor": 2
}
