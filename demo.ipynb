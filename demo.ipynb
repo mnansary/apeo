{
 "cells": [
  {
   "cell_type": "code",
   "execution_count": null,
   "metadata": {},
   "outputs": [],
   "source": [
    "import matplotlib.pyplot as plt\n",
    "import cv2 \n",
    "from printedOCR import PrintedOCR\n",
    "reader=PrintedOCR()"
   ]
  },
  {
   "cell_type": "code",
   "execution_count": null,
   "metadata": {},
   "outputs": [],
   "source": [
    "img_path=\"/home/ansary/WORK/Work/APSIS/codes/printed/apeo/memos/Marlboro Gold-1.jpg\"\n",
    "data=reader(img_path)\n",
    "data"
   ]
  },
  {
   "cell_type": "code",
   "execution_count": null,
   "metadata": {},
   "outputs": [],
   "source": [
    "\n",
    "img=cv2.imread(img_path)\n",
    "plt.figure(figsize=(10,10))\n",
    "plt.imshow(img) \n",
    "\n",
    "for line in data[\"data\"]:\n",
    "    print(\"---------------------------------------\")\n",
    "    print(line)\n",
    "    print(\"---------------------------------------\")\n",
    "    "
   ]
  },
  {
   "cell_type": "code",
   "execution_count": null,
   "metadata": {},
   "outputs": [],
   "source": []
  }
 ],
 "metadata": {
  "interpreter": {
   "hash": "fa698ee2b63d7d9ca484c25f2c4abdab749001148ee3eec7b444cd3f3797d0a5"
  },
  "kernelspec": {
   "display_name": "Python 3.8.13 ('mlreader')",
   "language": "python",
   "name": "python3"
  },
  "language_info": {
   "codemirror_mode": {
    "name": "ipython",
    "version": 3
   },
   "file_extension": ".py",
   "mimetype": "text/x-python",
   "name": "python",
   "nbconvert_exporter": "python",
   "pygments_lexer": "ipython3",
   "version": "3.8.13"
  },
  "orig_nbformat": 4
 },
 "nbformat": 4,
 "nbformat_minor": 2
}
